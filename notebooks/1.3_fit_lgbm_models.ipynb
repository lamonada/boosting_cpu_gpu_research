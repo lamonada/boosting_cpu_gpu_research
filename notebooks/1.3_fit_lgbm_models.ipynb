{
 "cells": [
  {
   "cell_type": "code",
   "execution_count": 1,
   "id": "0c07513b",
   "metadata": {
    "ExecuteTime": {
     "end_time": "2021-11-25T12:33:03.903858Z",
     "start_time": "2021-11-25T12:33:03.276212Z"
    }
   },
   "outputs": [
    {
     "data": {
      "text/plain": [
       "'3.3.0'"
      ]
     },
     "execution_count": 1,
     "metadata": {},
     "output_type": "execute_result"
    }
   ],
   "source": [
    "import lightgbm\n",
    "lightgbm.__version__"
   ]
  },
  {
   "cell_type": "code",
   "execution_count": 2,
   "id": "0aba3e20",
   "metadata": {
    "ExecuteTime": {
     "end_time": "2021-12-05T17:13:03.561463Z",
     "start_time": "2021-12-05T17:13:03.559380Z"
    }
   },
   "outputs": [],
   "source": [
    "import warnings\n",
    "warnings.simplefilter(\"ignore\")"
   ]
  },
  {
   "cell_type": "code",
   "execution_count": 3,
   "id": "29d78a7c",
   "metadata": {
    "ExecuteTime": {
     "end_time": "2021-12-05T17:13:03.874082Z",
     "start_time": "2021-12-05T17:13:03.863719Z"
    }
   },
   "outputs": [],
   "source": [
    "%load_ext autoreload\n",
    "%autoreload 2"
   ]
  },
  {
   "cell_type": "code",
   "execution_count": 4,
   "id": "4b6fc35b",
   "metadata": {
    "ExecuteTime": {
     "end_time": "2021-12-05T17:13:06.089622Z",
     "start_time": "2021-12-05T17:13:05.410749Z"
    }
   },
   "outputs": [],
   "source": [
    "import sys, json, dill, re, random, time\n",
    "import pandas as pd\n",
    "import numpy as np\n",
    "\n",
    "from lightgbm import LGBMClassifier\n",
    "from category_encoders import CountEncoder\n",
    "from sklearn.pipeline import Pipeline\n",
    "from sklearn.metrics import roc_auc_score\n",
    "\n",
    "from utils import fit_models\n",
    "\n",
    "import matplotlib.pyplot as plt\n",
    "%matplotlib inline"
   ]
  },
  {
   "cell_type": "code",
   "execution_count": 5,
   "id": "f72a9dad",
   "metadata": {
    "ExecuteTime": {
     "end_time": "2021-12-05T17:13:06.106256Z",
     "start_time": "2021-12-05T17:13:06.091190Z"
    }
   },
   "outputs": [
    {
     "name": "stdout",
     "output_type": "stream",
     "text": [
      "303 11\n"
     ]
    }
   ],
   "source": [
    "id_cols = ['phone_num', 'date', 'month', 'is_train', 'target']\n",
    "\n",
    "with open('../objects/final_feats_all.json', 'r') as f_in:\n",
    "    try_feats = json.load(f_in)\n",
    "    \n",
    "with open('../objects/final_feats_cat.json', 'r') as f_in:\n",
    "    cat_feats = json.load(f_in)\n",
    "\n",
    "print(len(try_feats), len(cat_feats))"
   ]
  },
  {
   "cell_type": "code",
   "execution_count": 6,
   "id": "d36b7ce3",
   "metadata": {
    "ExecuteTime": {
     "end_time": "2021-12-05T17:13:20.481708Z",
     "start_time": "2021-12-05T17:13:06.779172Z"
    }
   },
   "outputs": [
    {
     "name": "stdout",
     "output_type": "stream",
     "text": [
      "Train size 504549 , OOT sample size 216484\n",
      "Train default rate 0.032 , Test default rate 0.032\n"
     ]
    }
   ],
   "source": [
    "df_data = pd.read_csv('../objects/ml_prod_meetup_risk_sample__final.csv', index_col=None, dtype={'sex':str})\n",
    "\n",
    "df_train = df_data[df_data['is_train']==1]\n",
    "df_test = df_data[df_data['is_train']==0]\n",
    "\n",
    "train_default_rate = np.round(df_train['target'].value_counts(normalize=True).min(), 3)\n",
    "test_default_rate = np.round(df_test['target'].value_counts(normalize=True).min(), 3)\n",
    "\n",
    "print('Train size', df_train.shape[0], ', OOT sample size', df_test.shape[0])\n",
    "print('Train default rate', train_default_rate, ', Test default rate', test_default_rate)"
   ]
  },
  {
   "cell_type": "code",
   "execution_count": 7,
   "id": "09153f01",
   "metadata": {
    "ExecuteTime": {
     "end_time": "2021-12-05T17:13:21.536940Z",
     "start_time": "2021-12-05T17:13:20.484006Z"
    }
   },
   "outputs": [],
   "source": [
    "X_train = df_train[try_feats]\n",
    "y_train = df_train['target'].values\n",
    "\n",
    "X_test = df_test[try_feats]\n",
    "y_test = df_test['target'].values"
   ]
  },
  {
   "cell_type": "markdown",
   "id": "e30ff669",
   "metadata": {},
   "source": [
    "### fit on CPU"
   ]
  },
  {
   "cell_type": "code",
   "execution_count": 8,
   "id": "84915c7d",
   "metadata": {
    "ExecuteTime": {
     "end_time": "2021-12-05T17:13:21.551328Z",
     "start_time": "2021-12-05T17:13:21.538165Z"
    }
   },
   "outputs": [
    {
     "name": "stdout",
     "output_type": "stream",
     "text": [
      "[131, 113, 63, 73, 80, 93, 192, 79, 134, 194]\n"
     ]
    }
   ],
   "source": [
    "n=10\n",
    "random_states = [random.randint(0, 200) for _ in range(n)]\n",
    "print(random_states)"
   ]
  },
  {
   "cell_type": "code",
   "execution_count": 9,
   "id": "d54ccb77",
   "metadata": {
    "ExecuteTime": {
     "end_time": "2021-12-05T17:14:57.252578Z",
     "start_time": "2021-12-05T17:14:57.237492Z"
    }
   },
   "outputs": [],
   "source": [
    "params_set_1 = {\n",
    "    \"n_estimators\": 1000, \"learning_rate\": 0.02, \"num_leaves\": 64,\n",
    "    \"metric\": \"auc\", \"verbose\": 0, \"subsample\": 0.8\n",
    "}\n",
    "\n",
    "params_set_2 = {\n",
    "    \"n_estimators\": 700, \"learning_rate\": 0.04, \"num_leaves\": 32,\n",
    "    \"metric\": \"auc\", \"verbose\": 0, \"subsample\": 0.8\n",
    "}\n",
    "\n",
    "params_set_3 = {\n",
    "    \"n_estimators\": 800, \"learning_rate\": 0.05, \"num_leaves\": 16,\n",
    "    \"metric\": \"auc\", \"verbose\": 0, \"subsample\": 0.8\n",
    "}\n",
    "\n",
    "params_dict_cpu = {\n",
    "    \"params_set_1\": params_set_1,\n",
    "    \"params_set_2\": params_set_2,\n",
    "    \"params_set_3\": params_set_3,\n",
    "}"
   ]
  },
  {
   "cell_type": "code",
   "execution_count": 10,
   "id": "9f499831",
   "metadata": {
    "ExecuteTime": {
     "end_time": "2021-12-05T17:15:01.493802Z",
     "start_time": "2021-12-05T17:15:01.480426Z"
    }
   },
   "outputs": [
    {
     "name": "stdout",
     "output_type": "stream",
     "text": [
      "Metrics df saved to: ../metrics/lgbm_cpu_500K_test_metrics_final.csv\n"
     ]
    }
   ],
   "source": [
    "fit_models(\n",
    "    model_lib=\"lgbm\",\n",
    "    fit_type=\"cpu\",\n",
    "    p_dict=params_dict_cpu,\n",
    "    r_states=random_states,\n",
    "    cat_feats=cat_feats,\n",
    "    x_train=X_train,\n",
    "    y_train=y_train,\n",
    "    x_test=X_test,\n",
    "    y_test=y_test,\n",
    ")"
   ]
  },
  {
   "cell_type": "code",
   "execution_count": 11,
   "id": "05da67c6",
   "metadata": {
    "ExecuteTime": {
     "end_time": "2021-12-05T17:15:37.424219Z",
     "start_time": "2021-12-05T17:15:37.405297Z"
    }
   },
   "outputs": [
    {
     "name": "stdout",
     "output_type": "stream",
     "text": [
      "(30, 5) 0.7657405903954089 188.75572385787964\n"
     ]
    }
   ],
   "source": [
    "df_res = pd.read_csv('../metrics/lgbm_cpu_500K_test_metrics_final.csv', sep=';')\n",
    "print(df_res.shape, df_res['roc_auc'].mean(), df_res['fitting_time'].mean())"
   ]
  },
  {
   "cell_type": "markdown",
   "id": "c5897ec3",
   "metadata": {},
   "source": [
    "### fit on GPU"
   ]
  },
  {
   "cell_type": "code",
   "execution_count": 12,
   "id": "1883cd33",
   "metadata": {
    "ExecuteTime": {
     "end_time": "2021-12-05T17:15:58.569448Z",
     "start_time": "2021-12-05T17:15:58.551946Z"
    }
   },
   "outputs": [],
   "source": [
    "params_set_1 = {\n",
    "    \"n_estimators\": 1000, \"learning_rate\": 0.02, \"num_leaves\": 64,\n",
    "    \"metric\": \"auc\", \"verbose\": 0, \"subsample\": 0.8, \"device\": \"gpu\", \"gpu_device_id\": 0\n",
    "}\n",
    "\n",
    "params_set_2 = {\n",
    "    \"n_estimators\": 700, \"learning_rate\": 0.04, \"num_leaves\": 32,\n",
    "    \"metric\": \"auc\", \"verbose\": 0, \"subsample\": 0.8, \"device\": \"gpu\", \"gpu_device_id\": 0\n",
    "}\n",
    "\n",
    "params_set_3 = {\n",
    "    \"n_estimators\": 800, \"learning_rate\": 0.05, \"num_leaves\": 16,\n",
    "    \"metric\": \"auc\", \"verbose\": 0, \"subsample\": 0.8, \"device\": \"gpu\", \"gpu_device_id\": 0\n",
    "}\n",
    "\n",
    "params_dict_gpu = {\n",
    "    \"params_set_1\": params_set_1,\n",
    "    \"params_set_2\": params_set_2,\n",
    "    \"params_set_3\": params_set_3,\n",
    "}"
   ]
  },
  {
   "cell_type": "code",
   "execution_count": 13,
   "id": "aa595714",
   "metadata": {
    "ExecuteTime": {
     "end_time": "2021-12-05T17:16:03.020281Z",
     "start_time": "2021-12-05T17:16:03.004931Z"
    }
   },
   "outputs": [
    {
     "name": "stdout",
     "output_type": "stream",
     "text": [
      "Metrics df saved to: ../metrics/lgbm_gpu_500K_test_metrics_final.csv\n"
     ]
    }
   ],
   "source": [
    "fit_models(\n",
    "    model_lib=\"lgbm\",\n",
    "    fit_type=\"gpu\",\n",
    "    p_dict=params_dict_gpu,\n",
    "    r_states=random_states,\n",
    "    cat_feats=cat_feats,\n",
    "    x_train=X_train,\n",
    "    y_train=y_train,\n",
    "    x_test=X_test,\n",
    "    y_test=y_test,\n",
    ")"
   ]
  },
  {
   "cell_type": "code",
   "execution_count": 14,
   "id": "0be18166",
   "metadata": {
    "ExecuteTime": {
     "end_time": "2021-12-05T17:16:11.011223Z",
     "start_time": "2021-12-05T17:16:10.994557Z"
    }
   },
   "outputs": [
    {
     "name": "stdout",
     "output_type": "stream",
     "text": [
      "(30, 5) 0.7657684415939453 132.6868955850601\n"
     ]
    }
   ],
   "source": [
    "df_res = pd.read_csv('../metrics/lgbm_gpu_500K_test_metrics_final.csv', sep=';')\n",
    "print(df_res.shape, df_res['roc_auc'].mean(), df_res['fitting_time'].mean())"
   ]
  }
 ],
 "metadata": {
  "kernelspec": {
   "display_name": "lgbm_37",
   "language": "python",
   "name": "lgbm_37"
  },
  "language_info": {
   "codemirror_mode": {
    "name": "ipython",
    "version": 3
   },
   "file_extension": ".py",
   "mimetype": "text/x-python",
   "name": "python",
   "nbconvert_exporter": "python",
   "pygments_lexer": "ipython3",
   "version": "3.7.7"
  }
 },
 "nbformat": 4,
 "nbformat_minor": 5
}
