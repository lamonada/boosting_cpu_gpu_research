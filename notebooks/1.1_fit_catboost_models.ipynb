{
 "cells": [
  {
   "cell_type": "code",
   "execution_count": 1,
   "id": "87fd8f1f",
   "metadata": {
    "ExecuteTime": {
     "end_time": "2021-11-25T16:00:12.696137Z",
     "start_time": "2021-11-25T16:00:12.253679Z"
    }
   },
   "outputs": [
    {
     "data": {
      "text/plain": [
       "'0.25'"
      ]
     },
     "execution_count": 1,
     "metadata": {},
     "output_type": "execute_result"
    }
   ],
   "source": [
    "import catboost\n",
    "catboost.__version__"
   ]
  },
  {
   "cell_type": "code",
   "execution_count": 2,
   "id": "a931549d",
   "metadata": {
    "ExecuteTime": {
     "end_time": "2021-12-05T16:19:02.687048Z",
     "start_time": "2021-12-05T16:19:02.684772Z"
    }
   },
   "outputs": [],
   "source": [
    "import warnings\n",
    "warnings.simplefilter(\"ignore\")"
   ]
  },
  {
   "cell_type": "code",
   "execution_count": 3,
   "id": "6ec03251",
   "metadata": {
    "ExecuteTime": {
     "end_time": "2021-12-05T16:19:03.213177Z",
     "start_time": "2021-12-05T16:19:03.202543Z"
    }
   },
   "outputs": [],
   "source": [
    "%load_ext autoreload\n",
    "%autoreload 2"
   ]
  },
  {
   "cell_type": "code",
   "execution_count": 4,
   "id": "9339d3f1",
   "metadata": {
    "ExecuteTime": {
     "end_time": "2021-12-05T16:19:12.656331Z",
     "start_time": "2021-12-05T16:19:10.366728Z"
    }
   },
   "outputs": [],
   "source": [
    "import sys, json, dill, re, random\n",
    "import pandas as pd\n",
    "import numpy as np\n",
    "\n",
    "from catboost import CatBoostClassifier\n",
    "from sklearn.metrics import roc_auc_score\n",
    "\n",
    "from utils import fit_models\n",
    "\n",
    "import matplotlib.pyplot as plt\n",
    "%matplotlib inline"
   ]
  },
  {
   "cell_type": "code",
   "execution_count": 5,
   "id": "f72a9dad",
   "metadata": {
    "ExecuteTime": {
     "end_time": "2021-12-05T16:19:13.348701Z",
     "start_time": "2021-12-05T16:19:13.318381Z"
    }
   },
   "outputs": [
    {
     "name": "stdout",
     "output_type": "stream",
     "text": [
      "303 11\n"
     ]
    }
   ],
   "source": [
    "id_cols = ['phone_num', 'date', 'month', 'is_train', 'target']\n",
    "\n",
    "with open('../objects/final_feats_all.json', 'r') as f_in:\n",
    "    try_feats = json.load(f_in)\n",
    "    \n",
    "with open('../objects/final_feats_cat.json', 'r') as f_in:\n",
    "    cat_feats = json.load(f_in)\n",
    "\n",
    "print(len(try_feats), len(cat_feats))"
   ]
  },
  {
   "cell_type": "code",
   "execution_count": 8,
   "id": "3af12216",
   "metadata": {
    "ExecuteTime": {
     "end_time": "2021-12-05T16:25:01.235758Z",
     "start_time": "2021-12-05T16:24:45.105610Z"
    }
   },
   "outputs": [
    {
     "name": "stdout",
     "output_type": "stream",
     "text": [
      "Train size 504549 , OOT sample size 216484\n",
      "Train default rate 0.032 , Test default rate 0.032\n"
     ]
    }
   ],
   "source": [
    "df_data = pd.read_csv('../objects/ml_prod_meetup_risk_sample__final.csv', index_col=None, dtype={'sex':str})\n",
    "\n",
    "df_train = df_data[df_data['is_train']==1]\n",
    "df_test = df_data[df_data['is_train']==0]\n",
    "\n",
    "train_default_rate = np.round(df_train['target'].value_counts(normalize=True).min(), 3)\n",
    "test_default_rate = np.round(df_test['target'].value_counts(normalize=True).min(), 3)\n",
    "\n",
    "print('Train size', df_train.shape[0], ', OOT sample size', df_test.shape[0])\n",
    "print('Train default rate', train_default_rate, ', Test default rate', test_default_rate)"
   ]
  },
  {
   "cell_type": "code",
   "execution_count": 9,
   "id": "77756ec6",
   "metadata": {
    "ExecuteTime": {
     "end_time": "2021-12-05T16:25:02.105628Z",
     "start_time": "2021-12-05T16:25:01.237893Z"
    }
   },
   "outputs": [],
   "source": [
    "X_train = df_train[try_feats]\n",
    "y_train = df_train['target'].values\n",
    "\n",
    "X_test = df_test[try_feats]\n",
    "y_test = df_test['target'].values"
   ]
  },
  {
   "cell_type": "markdown",
   "id": "d494c579",
   "metadata": {},
   "source": [
    "### fit on CPU"
   ]
  },
  {
   "cell_type": "code",
   "execution_count": 10,
   "id": "84915c7d",
   "metadata": {
    "ExecuteTime": {
     "end_time": "2021-12-05T16:30:22.041145Z",
     "start_time": "2021-12-05T16:30:22.011589Z"
    }
   },
   "outputs": [
    {
     "name": "stdout",
     "output_type": "stream",
     "text": [
      "[17, 15, 6, 160, 29, 56, 44, 64, 2, 75]\n"
     ]
    }
   ],
   "source": [
    "# [17, 15, 6, 160, 29, 56, 44, 64, 2, 75]\n",
    "n=10 \n",
    "random_states = [random.randint(0, 200) for _ in range(n)]\n",
    "print(random_states)"
   ]
  },
  {
   "cell_type": "code",
   "execution_count": 11,
   "id": "d54ccb77",
   "metadata": {
    "ExecuteTime": {
     "end_time": "2021-12-05T16:30:28.511687Z",
     "start_time": "2021-12-05T16:30:28.481408Z"
    }
   },
   "outputs": [],
   "source": [
    "params_set_1 = {\n",
    "    \"n_estimators\": 1000, \"max_depth\": 6, \"cat_features\": cat_feats, \"subsample\": 0.8,\n",
    "    \"eval_metric\": \"AUC\", \"verbose\": False, \"task_type\": \"CPU\"\n",
    "}\n",
    "\n",
    "params_set_2 = {\n",
    "    \"n_estimators\": 700, \"max_depth\": 5, \"cat_features\": cat_feats, \"subsample\": 0.8,\n",
    "    \"eval_metric\": \"AUC\", \"verbose\": False, \"task_type\": \"CPU\"\n",
    "}\n",
    "\n",
    "params_set_3 = {\n",
    "    \"n_estimators\": 800, \"max_depth\": 4, \"cat_features\": cat_feats, \"subsample\": 0.8,\n",
    "    \"eval_metric\": \"AUC\", \"verbose\": False, \"task_type\": \"CPU\"\n",
    "}\n",
    "\n",
    "params_dict_cpu = {\n",
    "    \"params_set_1\": params_set_1,\n",
    "    \"params_set_2\": params_set_2,\n",
    "    \"params_set_3\": params_set_3,\n",
    "}"
   ]
  },
  {
   "cell_type": "code",
   "execution_count": 12,
   "id": "6ea9e6b0",
   "metadata": {
    "ExecuteTime": {
     "end_time": "2021-12-05T16:30:34.188252Z",
     "start_time": "2021-12-05T16:30:34.158862Z"
    }
   },
   "outputs": [
    {
     "name": "stdout",
     "output_type": "stream",
     "text": [
      "Metrics df saved to: ../metrics/catboost_cpu_500K_test_metrics_final.csv\n"
     ]
    }
   ],
   "source": [
    "fit_models(\n",
    "    model_lib=\"catboost\",\n",
    "    fit_type=\"cpu\",\n",
    "    p_dict=params_dict_cpu,\n",
    "    r_states=random_states,\n",
    "    cat_feats=cat_feats,\n",
    "    x_train=X_train,\n",
    "    y_train=y_train,\n",
    "    x_test=X_test,\n",
    "    y_test=y_test,\n",
    ")"
   ]
  },
  {
   "cell_type": "code",
   "execution_count": 16,
   "id": "2e8eaa07",
   "metadata": {
    "ExecuteTime": {
     "end_time": "2021-12-05T17:00:28.727029Z",
     "start_time": "2021-12-05T17:00:28.694440Z"
    }
   },
   "outputs": [
    {
     "name": "stdout",
     "output_type": "stream",
     "text": [
      "(30, 5) 0.7671935071213586 85.63076329231262\n"
     ]
    }
   ],
   "source": [
    "df_res = pd.read_csv('../metrics/catboost_cpu_500K_test_metrics_final.csv', sep=';')\n",
    "print(df_res.shape, df_res['roc_auc'].mean(), df_res['fitting_time'].mean())"
   ]
  },
  {
   "cell_type": "markdown",
   "id": "2cfa7f09",
   "metadata": {},
   "source": [
    "### fit on GPU"
   ]
  },
  {
   "cell_type": "code",
   "execution_count": 17,
   "id": "70913d9f",
   "metadata": {
    "ExecuteTime": {
     "end_time": "2021-12-05T17:01:30.403966Z",
     "start_time": "2021-12-05T17:01:30.374243Z"
    }
   },
   "outputs": [],
   "source": [
    "# default bootstrap type (bayesian) doesn't support taken fraction option\n",
    "# does not affect ROC AUC\n",
    "\n",
    "params_set_1 = {\n",
    "    \"n_estimators\": 1000, \"max_depth\": 6, \"cat_features\": cat_feats,\n",
    "    \"eval_metric\": \"AUC\", \"verbose\": False, \"task_type\": \"GPU\", \"devices\": \"0\"\n",
    "}\n",
    "\n",
    "params_set_2 = {\n",
    "    \"n_estimators\": 700, \"max_depth\": 5, \"cat_features\": cat_feats,\n",
    "    \"eval_metric\": \"AUC\", \"verbose\": False, \"task_type\": \"GPU\", \"devices\": \"0\"\n",
    "}\n",
    "\n",
    "params_set_3 = {\n",
    "    \"n_estimators\": 800, \"max_depth\": 4, \"cat_features\": cat_feats,\n",
    "    \"eval_metric\": \"AUC\", \"verbose\": False, \"task_type\": \"GPU\", \"devices\": \"0\"\n",
    "}\n",
    "\n",
    "params_dict_gpu = {\n",
    "    \"params_set_1\": params_set_1,\n",
    "    \"params_set_2\": params_set_2,\n",
    "    \"params_set_3\": params_set_3,\n",
    "}"
   ]
  },
  {
   "cell_type": "code",
   "execution_count": 18,
   "id": "b12bbd08",
   "metadata": {
    "ExecuteTime": {
     "end_time": "2021-12-05T17:01:50.280372Z",
     "start_time": "2021-12-05T17:01:50.251337Z"
    }
   },
   "outputs": [
    {
     "name": "stdout",
     "output_type": "stream",
     "text": [
      "Metrics df saved to: ../metrics/catboost_gpu_500K_test_metrics_final.csv\n"
     ]
    }
   ],
   "source": [
    "fit_models(\n",
    "    model_lib=\"catboost\",\n",
    "    fit_type=\"gpu\",\n",
    "    p_dict=params_dict_gpu,\n",
    "    r_states=random_states,\n",
    "    cat_feats=cat_feats,\n",
    "    x_train=X_train,\n",
    "    y_train=y_train,\n",
    "    x_test=X_test,\n",
    "    y_test=y_test,\n",
    ")"
   ]
  },
  {
   "cell_type": "code",
   "execution_count": 19,
   "id": "085b5a00",
   "metadata": {
    "ExecuteTime": {
     "end_time": "2021-12-05T17:02:02.075393Z",
     "start_time": "2021-12-05T17:02:02.044212Z"
    }
   },
   "outputs": [
    {
     "name": "stdout",
     "output_type": "stream",
     "text": [
      "(30, 5) 0.7307266410800715 31.640563941001894\n"
     ]
    }
   ],
   "source": [
    "df_res = pd.read_csv('../metrics/catboost_gpu_500K_test_metrics_final.csv', sep=';')\n",
    "print(df_res.shape, df_res['roc_auc'].mean(), df_res['fitting_time'].mean())"
   ]
  },
  {
   "cell_type": "code",
   "execution_count": 20,
   "id": "0c162b54",
   "metadata": {
    "ExecuteTime": {
     "end_time": "2021-12-05T17:02:20.484731Z",
     "start_time": "2021-12-05T17:02:20.452330Z"
    }
   },
   "outputs": [
    {
     "data": {
      "text/plain": [
       "0.03646686604128713"
      ]
     },
     "execution_count": 20,
     "metadata": {},
     "output_type": "execute_result"
    }
   ],
   "source": [
    "0.7671935071213586 - 0.7307266410800715  # средняя разница - 3.6 AUC"
   ]
  }
 ],
 "metadata": {
  "kernelspec": {
   "display_name": "py37_boosting",
   "language": "python",
   "name": "py37_boosting"
  },
  "language_info": {
   "codemirror_mode": {
    "name": "ipython",
    "version": 3
   },
   "file_extension": ".py",
   "mimetype": "text/x-python",
   "name": "python",
   "nbconvert_exporter": "python",
   "pygments_lexer": "ipython3",
   "version": "3.7.7"
  }
 },
 "nbformat": 4,
 "nbformat_minor": 5
}
