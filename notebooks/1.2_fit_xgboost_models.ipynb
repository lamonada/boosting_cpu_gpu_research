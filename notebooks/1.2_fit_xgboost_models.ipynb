{
 "cells": [
  {
   "cell_type": "code",
   "execution_count": 1,
   "id": "87fd8f1f",
   "metadata": {
    "ExecuteTime": {
     "end_time": "2021-11-26T09:06:01.523797Z",
     "start_time": "2021-11-26T09:06:00.761421Z"
    }
   },
   "outputs": [
    {
     "data": {
      "text/plain": [
       "'1.2.0'"
      ]
     },
     "execution_count": 1,
     "metadata": {},
     "output_type": "execute_result"
    }
   ],
   "source": [
    "import xgboost\n",
    "xgboost.__version__"
   ]
  },
  {
   "cell_type": "code",
   "execution_count": 2,
   "id": "dac3635a",
   "metadata": {
    "ExecuteTime": {
     "end_time": "2021-12-05T17:03:20.611378Z",
     "start_time": "2021-12-05T17:03:20.609309Z"
    }
   },
   "outputs": [],
   "source": [
    "import warnings\n",
    "warnings.simplefilter(\"ignore\")"
   ]
  },
  {
   "cell_type": "code",
   "execution_count": 3,
   "id": "094df86e",
   "metadata": {
    "ExecuteTime": {
     "end_time": "2021-12-05T17:03:21.045065Z",
     "start_time": "2021-12-05T17:03:21.035739Z"
    }
   },
   "outputs": [],
   "source": [
    "%load_ext autoreload\n",
    "%autoreload 2"
   ]
  },
  {
   "cell_type": "code",
   "execution_count": 4,
   "id": "a94d082f",
   "metadata": {
    "ExecuteTime": {
     "end_time": "2021-12-05T17:03:24.904208Z",
     "start_time": "2021-12-05T17:03:22.684422Z"
    }
   },
   "outputs": [],
   "source": [
    "import sys, json, dill, re, random, time\n",
    "import pandas as pd\n",
    "import numpy as np\n",
    "\n",
    "from xgboost import XGBClassifier\n",
    "from category_encoders import CountEncoder\n",
    "from sklearn.pipeline import Pipeline\n",
    "from sklearn.metrics import roc_auc_score\n",
    "\n",
    "from utils import fit_models"
   ]
  },
  {
   "cell_type": "code",
   "execution_count": 5,
   "id": "f72a9dad",
   "metadata": {
    "ExecuteTime": {
     "end_time": "2021-12-05T17:03:24.931832Z",
     "start_time": "2021-12-05T17:03:24.905582Z"
    }
   },
   "outputs": [
    {
     "name": "stdout",
     "output_type": "stream",
     "text": [
      "303 11\n"
     ]
    }
   ],
   "source": [
    "id_cols = ['phone_num', 'date', 'month', 'is_train', 'target']\n",
    "\n",
    "with open('../objects/final_feats_all.json', 'r') as f_in:\n",
    "    try_feats = json.load(f_in)\n",
    "    \n",
    "with open('../objects/final_feats_cat.json', 'r') as f_in:\n",
    "    cat_feats = json.load(f_in)\n",
    "\n",
    "print(len(try_feats), len(cat_feats))"
   ]
  },
  {
   "cell_type": "code",
   "execution_count": 6,
   "id": "86b0c0bd",
   "metadata": {
    "ExecuteTime": {
     "end_time": "2021-12-05T17:03:41.766887Z",
     "start_time": "2021-12-05T17:03:24.932749Z"
    }
   },
   "outputs": [
    {
     "name": "stdout",
     "output_type": "stream",
     "text": [
      "Train size 504549 , OOT sample size 216484\n",
      "Train default rate 0.032 , Test default rate 0.032\n"
     ]
    }
   ],
   "source": [
    "df_data = pd.read_csv('../objects/ml_prod_meetup_risk_sample__final.csv', index_col=None, dtype={'sex':str})\n",
    "\n",
    "df_train = df_data[df_data['is_train']==1]\n",
    "df_test = df_data[df_data['is_train']==0]\n",
    "\n",
    "train_default_rate = np.round(df_train['target'].value_counts(normalize=True).min(), 3)\n",
    "test_default_rate = np.round(df_test['target'].value_counts(normalize=True).min(), 3)\n",
    "\n",
    "print('Train size', df_train.shape[0], ', OOT sample size', df_test.shape[0])\n",
    "print('Train default rate', train_default_rate, ', Test default rate', test_default_rate)"
   ]
  },
  {
   "cell_type": "code",
   "execution_count": 7,
   "id": "022bad4c",
   "metadata": {
    "ExecuteTime": {
     "end_time": "2021-12-05T17:03:42.779684Z",
     "start_time": "2021-12-05T17:03:41.768269Z"
    }
   },
   "outputs": [],
   "source": [
    "X_train = df_train[try_feats]\n",
    "y_train = df_train['target'].values\n",
    "\n",
    "X_test = df_test[try_feats]\n",
    "y_test = df_test['target'].values"
   ]
  },
  {
   "cell_type": "markdown",
   "id": "d494c579",
   "metadata": {},
   "source": [
    "### fit on CPU"
   ]
  },
  {
   "cell_type": "code",
   "execution_count": 8,
   "id": "84915c7d",
   "metadata": {
    "ExecuteTime": {
     "end_time": "2021-12-05T17:05:13.555137Z",
     "start_time": "2021-12-05T17:05:13.526050Z"
    }
   },
   "outputs": [
    {
     "name": "stdout",
     "output_type": "stream",
     "text": [
      "[77, 176, 64, 126, 181, 195, 154, 169, 80, 116]\n"
     ]
    }
   ],
   "source": [
    "# [77, 176, 64, 126, 181, 195, 154, 169, 80, 116]\n",
    "n=10 \n",
    "[random.randint(0, 200) for _ in range(n)]\n",
    "print(random_states)"
   ]
  },
  {
   "cell_type": "code",
   "execution_count": 9,
   "id": "d54ccb77",
   "metadata": {
    "ExecuteTime": {
     "end_time": "2021-12-05T17:05:25.077899Z",
     "start_time": "2021-12-05T17:05:25.043364Z"
    }
   },
   "outputs": [],
   "source": [
    "params_set_1 = {\"max_depth\": 6, \"n_estimators\": 1000, \"learning_rate\": 0.02, \"eval_metric\": \"auc\",\n",
    "    \"verbosity\": 1, 'subsample':0.8}\n",
    "\n",
    "params_set_2 = {\"max_depth\": 5, \"n_estimators\": 700, \"learning_rate\": 0.04, \"eval_metric\": \"auc\",\n",
    "    \"verbosity\": 1, 'subsample':0.8}\n",
    "\n",
    "params_set_3 = {\"max_depth\": 4, \"n_estimators\": 800, \"learning_rate\": 0.05, \"eval_metric\": \"auc\",\n",
    "    \"verbosity\": 1, 'subsample':0.8}\n",
    "\n",
    "params_dict_cpu = {\n",
    "    'params_set_1': params_set_1,\n",
    "    'params_set_2': params_set_2,\n",
    "    'params_set_3': params_set_3,\n",
    "}"
   ]
  },
  {
   "cell_type": "code",
   "execution_count": 10,
   "id": "9bb380e6",
   "metadata": {
    "ExecuteTime": {
     "end_time": "2021-12-05T17:05:29.439036Z",
     "start_time": "2021-12-05T17:05:29.406335Z"
    }
   },
   "outputs": [
    {
     "name": "stdout",
     "output_type": "stream",
     "text": [
      "Metrics df saved to: ../metrics/xgboost_cpu_500K_test_metrics_final.csv\n"
     ]
    }
   ],
   "source": [
    "fit_models(\n",
    "    model_lib=\"xgboost\",\n",
    "    fit_type=\"cpu\",\n",
    "    p_dict=params_dict_cpu,\n",
    "    r_states=random_states,\n",
    "    cat_feats=cat_feats,\n",
    "    x_train=X_train,\n",
    "    y_train=y_train,\n",
    "    x_test=X_test,\n",
    "    y_test=y_test,\n",
    ") "
   ]
  },
  {
   "cell_type": "code",
   "execution_count": 11,
   "id": "ccfb6668",
   "metadata": {
    "ExecuteTime": {
     "end_time": "2021-12-05T17:05:34.010064Z",
     "start_time": "2021-12-05T17:05:33.970831Z"
    }
   },
   "outputs": [
    {
     "name": "stdout",
     "output_type": "stream",
     "text": [
      "(30, 5) 0.7697310479104854 454.5530255715052\n"
     ]
    }
   ],
   "source": [
    "df_res = pd.read_csv('../metrics/xgboost_cpu_500K_test_metrics_final.csv', sep=';')\n",
    "print(df_res.shape, df_res['roc_auc'].mean(), df_res['fitting_time'].mean())"
   ]
  },
  {
   "cell_type": "markdown",
   "id": "f61d0b15",
   "metadata": {},
   "source": [
    "### fit on GPU"
   ]
  },
  {
   "cell_type": "code",
   "execution_count": 18,
   "id": "cfd8ea0d",
   "metadata": {
    "ExecuteTime": {
     "end_time": "2021-12-05T17:09:41.290823Z",
     "start_time": "2021-12-05T17:09:41.254241Z"
    }
   },
   "outputs": [],
   "source": [
    "params_set_1 = {\"max_depth\": 6, \"n_estimators\": 1000, \"learning_rate\": 0.02, \"eval_metric\": \"auc\",\n",
    "    \"verbosity\": 1, 'subsample':0.8, \"tree_method\": \"gpu_hist\", \"gpu_id\": 1}\n",
    "\n",
    "params_set_2 = {\"max_depth\": 5, \"n_estimators\": 700, \"learning_rate\": 0.04, \"eval_metric\": \"auc\",\n",
    "    \"verbosity\": 1, 'subsample':0.8, \"tree_method\": \"gpu_hist\", \"gpu_id\": 1}\n",
    "\n",
    "params_set_3 = {\"max_depth\": 4, \"n_estimators\": 800, \"learning_rate\": 0.05, \"eval_metric\": \"auc\",\n",
    "    \"verbosity\": 1, 'subsample':0.8, \"tree_method\": \"gpu_hist\", \"gpu_id\": 1}\n",
    "\n",
    "params_dict_gpu = {\n",
    "    'params_set_1': params_set_1,\n",
    "    'params_set_2': params_set_2,\n",
    "    'params_set_3': params_set_3,\n",
    "}"
   ]
  },
  {
   "cell_type": "code",
   "execution_count": 19,
   "id": "cb4c78d6",
   "metadata": {
    "ExecuteTime": {
     "end_time": "2021-12-05T17:10:03.493610Z",
     "start_time": "2021-12-05T17:10:03.458275Z"
    }
   },
   "outputs": [
    {
     "name": "stdout",
     "output_type": "stream",
     "text": [
      "Metrics df saved to: ../metrics/xgboost_gpu_500K_test_metrics_final.csv\n"
     ]
    }
   ],
   "source": [
    "fit_models(\n",
    "    model_lib=\"xgboost\",\n",
    "    fit_type=\"gpu\",\n",
    "    p_dict=params_dict_gpu,\n",
    "    r_states=random_states,\n",
    "    cat_feats=cat_feats,\n",
    "    x_train=X_train,\n",
    "    y_train=y_train,\n",
    "    x_test=X_test,\n",
    "    y_test=y_test,\n",
    ")"
   ]
  },
  {
   "cell_type": "code",
   "execution_count": 20,
   "id": "b7764824",
   "metadata": {
    "ExecuteTime": {
     "end_time": "2021-12-05T17:10:07.978388Z",
     "start_time": "2021-12-05T17:10:07.939615Z"
    }
   },
   "outputs": [
    {
     "name": "stdout",
     "output_type": "stream",
     "text": [
      "(30, 5) 0.7696951708036192 50.11624643802643\n"
     ]
    }
   ],
   "source": [
    "df_res = pd.read_csv('../metrics/xgboost_gpu_500K_test_metrics_final.csv', sep=';')\n",
    "print(df_res.shape, df_res['roc_auc'].mean(), df_res['fitting_time'].mean())"
   ]
  }
 ],
 "metadata": {
  "kernelspec": {
   "display_name": "py37_boosting",
   "language": "python",
   "name": "py37_boosting"
  },
  "language_info": {
   "codemirror_mode": {
    "name": "ipython",
    "version": 3
   },
   "file_extension": ".py",
   "mimetype": "text/x-python",
   "name": "python",
   "nbconvert_exporter": "python",
   "pygments_lexer": "ipython3",
   "version": "3.7.7"
  }
 },
 "nbformat": 4,
 "nbformat_minor": 5
}
